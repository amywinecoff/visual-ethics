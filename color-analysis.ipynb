{
 "cells": [
  {
   "cell_type": "code",
   "execution_count": null,
   "metadata": {},
   "outputs": [],
   "source": [
    "#resources \n",
    "#https://towardsdatascience.com/building-an-image-color-analyzer-using-python-12de6b0acf74"
   ]
  },
  {
   "cell_type": "code",
   "execution_count": 1,
   "metadata": {},
   "outputs": [
    {
     "name": "stderr",
     "output_type": "stream",
     "text": [
      "/opt/anaconda3/lib/python3.8/site-packages/requests/__init__.py:89: RequestsDependencyWarning: urllib3 (1.26.9) or chardet (3.0.4) doesn't match a supported version!\n",
      "  warnings.warn(\"urllib3 ({}) or chardet ({}) doesn't match a supported \"\n"
     ]
    }
   ],
   "source": [
    "from collections import Counter\n",
    "from sklearn.cluster import KMeans\n",
    "from matplotlib import colors\n",
    "import matplotlib.pyplot as plt\n",
    "import numpy as np\n",
    "import cv2\n",
    "from selenium import webdriver\n",
    "from webdriver_manager.chrome import ChromeDriverManager\n",
    "from selenium.webdriver.chrome.service import Service\n",
    "from selenium.webdriver.common.by import By\n",
    "import colorsys\n",
    "import os\n",
    "\n",
    "from time import sleep\n",
    "import json\n",
    "\n",
    "import contractions\n",
    "import spacy\n",
    "#from spacy.tokenizer import Tokenizer\n",
    "import en_core_web_sm\n",
    "import nltk\n",
    "#from nltk.stem import WordNetLemmatizer\n",
    "from nltk import bigrams, trigrams\n",
    "from bs4 import BeautifulSoup\n",
    "from urllib.request import Request, urlopen\n",
    "import requests\n",
    "import string\n",
    "import regex as re\n",
    "import collections"
   ]
  },
  {
   "cell_type": "code",
   "execution_count": 2,
   "metadata": {},
   "outputs": [],
   "source": [
    "nlp = spacy.load(\"en_core_web_sm\", disable=['parser', 'ner'])"
   ]
  },
  {
   "cell_type": "code",
   "execution_count": 3,
   "metadata": {},
   "outputs": [],
   "source": [
    "def rgb_to_hex(rgb_color):\n",
    "    hex_color = \"#\"\n",
    "    for i in rgb_color:\n",
    "        i = int(i)\n",
    "        hex_color += (\"{:02x}\".format(i))\n",
    "    return hex_color\n",
    "\n",
    "def prep_image(raw_img):\n",
    "    modified_img = cv2.resize(raw_img, (900, 600), interpolation = cv2.INTER_AREA)\n",
    "    modified_img = modified_img.reshape(modified_img.shape[0]*modified_img.shape[1], 3)\n",
    "    return modified_img\n",
    "\n",
    "def color_analysis(img, url):\n",
    "    \n",
    "    clf = KMeans(n_clusters = 5)\n",
    "    color_labels = clf.fit_predict(img)\n",
    "    center_colors = clf.cluster_centers_    \n",
    "    counts = Counter(color_labels)\n",
    "    ordered_colors = [center_colors[i].round(3).tolist() for i in counts.keys()]\n",
    "    hex_colors = [rgb_to_hex(ordered_colors[i]) for i in counts.keys()]    \n",
    "    plt.figure(figsize = (12, 8))\n",
    "    plt.pie(counts.values(), labels = hex_colors, colors = hex_colors)\n",
    "    plt.title('color proportions from {u}'.format(u=url))\n",
    "    plt.savefig('./plots/pie-' + url.replace('.', '-') + '.png')\n",
    "    \n",
    "    \n",
    "    \n",
    "    color_array = np.array(list(counts.values()))\n",
    "    color_proportion = (color_array/sum(color_array)).round(3).tolist()\n",
    "    #.tolist()\n",
    "    \n",
    "    color_dict = {}\n",
    "    \n",
    "    color_dict['centroids_rgb'] = ordered_colors\n",
    "    color_dict['centroids_hex'] = hex_colors\n",
    "    color_dict['color_counts'] = color_array.tolist()\n",
    "    color_dict['color_proportion'] = color_proportion\n",
    "    \n",
    "    #print(hex_colors)\n",
    "    return color_dict "
   ]
  },
  {
   "cell_type": "code",
   "execution_count": 4,
   "metadata": {},
   "outputs": [],
   "source": [
    "def get_paragraph_text(url, hdr):\n",
    "    \n",
    "    try:\n",
    "        \n",
    "        req = Request(url,headers=hdr)\n",
    "        page = urlopen(req)\n",
    "    \n",
    "    except:\n",
    "        \n",
    "        print(\"http failed, trying https:\")\n",
    "        \n",
    "        try:\n",
    "            url = url.replace('http:', 'https:')\n",
    "            req = Request(url,headers=hdr)\n",
    "            page = urlopen(req)\n",
    "        \n",
    "        except Exception as e:\n",
    "            print(\"substitution of https also failed. Error is {}\".format(e))\n",
    "            \n",
    "    else:\n",
    "   \n",
    "        soup = BeautifulSoup(page, 'html.parser')\n",
    "\n",
    "        p=soup.find_all('p')\n",
    "        text = ' '.join(t.get_text() for t in p)\n",
    "\n",
    "        return text\n",
    "\n",
    "class TextPreprocessor(object):\n",
    "    def __init__(self):\n",
    "        \"\"\"\n",
    "        TBD\n",
    "        \"\"\"\n",
    "\n",
    "    def preprocess_df(self, df):\n",
    "        return df.apply(self._preprocess_text)\n",
    "\n",
    "    def preprocess_text(self, text):\n",
    "        doc = nlp(text)\n",
    "        removed_punct = self._remove_punct(doc)\n",
    "        removed_stop_words = self._remove_stop_words(removed_punct)\n",
    "\n",
    "        return self._lemmatize(removed_stop_words)\n",
    "\n",
    "    def _remove_punct(self, doc):\n",
    "        return [t for t in doc if t.text not in string.punctuation]\n",
    "\n",
    "    def _remove_stop_words(self, doc):\n",
    "        return [t for t in doc if not t.is_stop]\n",
    "\n",
    "    def _lemmatize(self, doc):\n",
    "        \n",
    "        lemma_text = ' '.join([t.lemma_ for t in doc])\n",
    "        \n",
    "        return re.sub('\\s+',' ',lemma_text)\n",
    "        \n",
    "    \n",
    "\n"
   ]
  },
  {
   "cell_type": "code",
   "execution_count": 5,
   "metadata": {},
   "outputs": [],
   "source": [
    "#urls = ['www.uber.com', 'www.lyft.com', 'www.doordash.com']\n",
    "urls = ['www.lyft.com']"
   ]
  },
  {
   "cell_type": "code",
   "execution_count": 29,
   "metadata": {},
   "outputs": [
    {
     "name": "stderr",
     "output_type": "stream",
     "text": [
      "\n",
      "\n",
      "====== WebDriver manager ======\n",
      "Current google-chrome version is 101.0.4951\n",
      "Get LATEST chromedriver version for 101.0.4951 google-chrome\n",
      "Driver [/Users/amywinecoff/.wdm/drivers/chromedriver/mac64/101.0.4951.41/chromedriver] found in cache\n"
     ]
    },
    {
     "name": "stdout",
     "output_type": "stream",
     "text": [
      "end...\n"
     ]
    },
    {
     "data": {
      "image/png": "[encoded data removed]",
      "text/plain": [
       "<Figure size 432x288 with 1 Axes>"
      ]
     },
     "metadata": {
      "needs_background": "light"
     },
     "output_type": "display_data"
    },
    {
     "data": {
      "image/png": "[encoded data removed]",
      "text/plain": [
       "<Figure size 864x576 with 1 Axes>"
      ]
     },
     "metadata": {},
     "output_type": "display_data"
    }
   ],
   "source": [
    "options = webdriver.ChromeOptions()\n",
    "options.headless = True\n",
    "    \n",
    "driver = webdriver.Chrome(service=Service(ChromeDriverManager().install()), options=options)\n",
    "url_errors = {}\n",
    "urls_color_dicts = []\n",
    "\n",
    "#if the json already exists from a prior code run, delete it\n",
    "if os.path.exists('site_screenshot_colors.json'):\n",
    "    os.remove('site_screenshot_colors.json')\n",
    "\n",
    "for url in urls:\n",
    "    \n",
    "    try:\n",
    "        \n",
    "    \n",
    "        #driver.get('https://' + url)\n",
    "        \n",
    "\n",
    "        #driver.get_screenshot_as_file('./site-screenshots/'+ url.replace('.', '-') + '.png')\n",
    "        \n",
    "        #driver = webdriver.Chrome(service=Service(ChromeDriverManager().install()), options=options)\n",
    "        driver.get('https://' + url)\n",
    "        sleep(1)\n",
    "        #el = driver.find_element_by_tag_name('body')\n",
    "        #el = driver.find_element(By.TAG_NAME, value='body')\n",
    "\n",
    "        S = lambda X: driver.execute_script('return document.body.parentNode.scroll'+X)\n",
    "        driver.set_window_size(S('Width'),S('Height')) # May need manual adjustment\n",
    "\n",
    "        el = driver.find_element(By.TAG_NAME, value='body')\n",
    "        el.screenshot('./site-screenshots/'+ url.replace('.', '-') + '.png')\n",
    "\n",
    "        image = cv2.imread('./site-screenshots/'+ url.replace('.', '-') + '.png')\n",
    "        image = cv2.cvtColor(image, cv2.COLOR_BGR2RGB)\n",
    "        plt.imshow(image)\n",
    "\n",
    "        modified_image = prep_image(image)\n",
    "        color_dict = color_analysis(modified_image, url)\n",
    "        color_dict['url'] = url\n",
    "        color_dict['screenshot'] = url.replace('.', '-') + '.png'\n",
    "        \n",
    "        hsv = [list(colorsys.rgb_to_hsv(c[0], c[1], c[2])) for c in color_dict['centroids_rgb']]\n",
    "        \n",
    "        color_dict['centroids_hsv']=hsv\n",
    "        \n",
    "        with open('site_screenshot_colors.json', 'a') as f:\n",
    "            f.write(json.dumps(color_dict))\n",
    "            f.write('\\n')\n",
    "                                      \n",
    "\n",
    "        urls_color_dicts.append(color_dict)\n",
    "        \n",
    "        \n",
    "        \n",
    "                \n",
    "    \n",
    "    except Exception as e:\n",
    "        \n",
    "        print(\"url {url} error {e}\".format(url=url, e=e))\n",
    "        \n",
    "        url_errors[url] = e\n",
    "\n",
    "driver.quit()\n",
    "\n",
    "print(\"end...\")"
   ]
  },
  {
   "cell_type": "code",
   "execution_count": 18,
   "metadata": {},
   "outputs": [],
   "source": []
  },
  {
   "cell_type": "code",
   "execution_count": 27,
   "metadata": {},
   "outputs": [],
   "source": [
    "url='www.lyft.com'"
   ]
  },
  {
   "cell_type": "code",
   "execution_count": 28,
   "metadata": {},
   "outputs": [
    {
     "name": "stderr",
     "output_type": "stream",
     "text": [
      "\n",
      "\n",
      "====== WebDriver manager ======\n",
      "Current google-chrome version is 101.0.4951\n",
      "Get LATEST chromedriver version for 101.0.4951 google-chrome\n",
      "Driver [/Users/amywinecoff/.wdm/drivers/chromedriver/mac64/101.0.4951.41/chromedriver] found in cache\n"
     ]
    }
   ],
   "source": [
    "#\n",
    "path = './site-screenshots/'+ url.replace('.', '-') + '.png'\n",
    "url = 'https://' + url\n",
    "\n",
    "#driver = webdriver.Chrome()\n",
    "options = webdriver.ChromeOptions()\n",
    "options.headless = True\n",
    "\n",
    "driver = webdriver.Chrome(service=Service(ChromeDriverManager().install()), options=options)\n",
    "driver.get(url)\n",
    "#el = driver.find_element_by_tag_name('body')\n",
    "el = driver.find_element(By.TAG_NAME, value='body')\n",
    "\n",
    "S = lambda X: driver.execute_script('return document.body.parentNode.scroll'+X)\n",
    "driver.set_window_size(S('Width'),S('Height')) # May need manual adjustment\n",
    "\n",
    "el = driver.find_element(By.TAG_NAME, value='body')\n",
    "#driver.find_element_by_tag_name('body').screenshot('web_screenshot.png')\n",
    "\n",
    "\n",
    "el.screenshot(path)\n",
    "driver.quit()"
   ]
  },
  {
   "cell_type": "code",
   "execution_count": null,
   "metadata": {},
   "outputs": [],
   "source": [
    "# element.value_of_css_property(property_name)\n",
    "# driver.get(\"https://google.com\")\n",
    "# cssValue = driver.find_element_by_name(\"q\").value_of_css_property(\"font-size\")\n",
    "#hsv = [colorsys.rgb_to_hsv(c) for c in color_dict['centroids_rgb']]\n",
    "\n",
    "# for c in color_dict['centroids_rgb']:\n",
    "#     #print(c[0], c[1], c[2])\n",
    "#     print(tuple(c))\n",
    "#     #print(list(colorsys.rgb_to_hsv(c[0], c[1], c[2])))\n",
    "#     print(colorsys.rgb_to_hsv(tuple(c)))\n",
    "#hsv = [list(colorsys.rgb_to_hsv(c[0], c[1], c[2])) for c in color_dict['centroids_rgb']]"
   ]
  },
  {
   "cell_type": "code",
   "execution_count": 7,
   "metadata": {},
   "outputs": [
    {
     "name": "stdout",
     "output_type": "stream",
     "text": [
      "set hour earn term money tip cash want boss drive work cash earning want \" motto simple cost penny nice kind cost free somebody need help jump heartbeat \" — mary drive lyft 2019 \" student hard complete class work schedule start drive lyft realize perfect opportunity money work time drive lyft give freedom schedule focus school main priority \" — harold drive lyft 2020 \" disabled marine corp veteran disability long able work structured environment hour week drive connect community give extra money help end meet \" — christine drive lyft 2016 \" drive lyft perfect way money family need love provide way passenger point b. independence key enjoy meet new people drive \" — timothy drive lyft 2017 \" motto simple cost penny nice kind cost free somebody need help jump heartbeat \" — mary drive lyft 2019 \" student hard complete class work schedule start drive lyft realize perfect opportunity money work time drive lyft give freedom schedule focus school main priority \" — harold drive lyft 2020 join lyft pink unlock fast pickup extra cost member exclusive pricing free roadside assistance car — right app 9.99 month available u.s matter destination need join lyft pink unlock fast pickup extra cost member exclusive pricing free roadside assistance car — right app 9.99 month available u.s get option go choose ride suit mood budget seamless independence efficient eco friendly budget friendly private efficient private efficient private roomy car driver extra seat private efficient premium budget friendly eco friendly availability bike scooter rental ride type transit information vary region ready roll?get estimate look single ride monitor ride help need need stand ready help ride ride gateway opportunity job connection community access essential like grocery healthcare polling place lyftup initiative make ride accessible million help bring community close affordable transportation solution effortless expensing help drive business forward bygette people need\n"
     ]
    },
    {
     "data": {
      "text/plain": [
       "[('drive', 15),\n",
       " ('lyft', 13),\n",
       " ('\"', 12),\n",
       " ('—', 8),\n",
       " ('need', 7),\n",
       " ('help', 7),\n",
       " ('ride', 7),\n",
       " ('work', 6),\n",
       " ('cost', 6),\n",
       " ('money', 5),\n",
       " ('free', 4),\n",
       " ('schedule', 4),\n",
       " ('extra', 4),\n",
       " ('efficient', 4),\n",
       " ('friendly', 4),\n",
       " ('private', 4),\n",
       " ('perfect', 3),\n",
       " ('opportunity', 3),\n",
       " ('give', 3),\n",
       " ('community', 3),\n",
       " ('car', 3),\n",
       " ('budget', 3),\n",
       " ('hour', 2),\n",
       " ('cash', 2),\n",
       " ('want', 2),\n",
       " ('motto', 2),\n",
       " ('simple', 2),\n",
       " ('penny', 2),\n",
       " ('nice', 2),\n",
       " ('kind', 2),\n",
       " ('somebody', 2),\n",
       " ('jump', 2),\n",
       " ('heartbeat', 2),\n",
       " ('mary', 2),\n",
       " ('2019', 2),\n",
       " ('student', 2),\n",
       " ('hard', 2),\n",
       " ('complete', 2),\n",
       " ('class', 2),\n",
       " ('start', 2),\n",
       " ('realize', 2),\n",
       " ('time', 2),\n",
       " ('freedom', 2),\n",
       " ('focus', 2),\n",
       " ('school', 2),\n",
       " ('main', 2),\n",
       " ('priority', 2),\n",
       " ('harold', 2),\n",
       " ('2020', 2),\n",
       " ('meet', 2)]"
      ]
     },
     "execution_count": 7,
     "metadata": {},
     "output_type": "execute_result"
    }
   ],
   "source": [
    "full_url = \"http://\" + url\n",
    "hdr = {'User-Agent': 'Mozilla/5.0 (X11; Linux x86_64) AppleWebKit/537.11 (KHTML, like Gecko) Chrome/23.0.1271.64 Safari/537.11',\n",
    "       'Accept': 'text/html,application/xhtml+xml,application/xml;q=0.9,*/*;q=0.8',\n",
    "       'Accept-Charset': 'ISO-8859-1,utf-8;q=0.7,*;q=0.3',\n",
    "       'Accept-Encoding': 'none',\n",
    "       'Accept-Language': 'en-US,en;q=0.8',\n",
    "       'Connection': 'keep-alive'}\n",
    "\n",
    "req = Request(full_url,headers=hdr)\n",
    "page = urlopen(req)\n",
    "soup = BeautifulSoup(page, 'html.parser')\n",
    "\n",
    "main_site_text = get_paragraph_text(full_url, hdr).lower()\n",
    "#print(main_site_text)\n",
    "\n",
    "processed_text = TextPreprocessor().preprocess_text(main_site_text)\n",
    "print(processed_text)\n",
    "\n",
    "word_counts = collections.Counter(processed_text.split())\n",
    "# bg = bigrams(ah_text.split())\n",
    "# bigram_counts = collections.Counter(bg)\n",
    "# tg = trigrams(ah_text.split())\n",
    "# trigram_counts = collections.Counter(tg)\n",
    "\n",
    "word_counts.most_common(50)\n"
   ]
  },
  {
   "cell_type": "code",
   "execution_count": null,
   "metadata": {},
   "outputs": [],
   "source": [
    "bigram_counts.most_common(50)\n",
    "\n"
   ]
  },
  {
   "cell_type": "code",
   "execution_count": null,
   "metadata": {},
   "outputs": [],
   "source": [
    "print(soup.prettify())"
   ]
  },
  {
   "cell_type": "code",
   "execution_count": null,
   "metadata": {},
   "outputs": [],
   "source": [
    "#element = driver.find_element_by_tag_name('title')\n",
    "element = driver.find_element(By.TAG_NAME, value='title')\n",
    "\"/html/body\"\n",
    "properties = driver.execute_script('return window.getComputedStyle(arguments[0], null);', element)\n",
    "for property in properties:\n",
    "    print(property, element.value_of_css_property(property))"
   ]
  },
  {
   "cell_type": "code",
   "execution_count": null,
   "metadata": {},
   "outputs": [],
   "source": [
    "element = driver.find_element(By.XPATH, \"/html/body\")\n",
    "#element = driver.find_element(By.TAG_NAME, value='title')\n",
    "\n",
    "print(element.value_of_css_property(\"background-color\"))\n",
    "print(element.value_of_css_property(\"color\"))\n",
    "print(element.value_of_css_property(\"font-family\"))\n",
    "print(element.value_of_css_property(\"font-size\"))"
   ]
  },
  {
   "cell_type": "code",
   "execution_count": null,
   "metadata": {},
   "outputs": [],
   "source": [
    "element = driver.find_element(By.XPATH, \"/html/body\")\n",
    "properties = driver.execute_script('return window.getComputedStyle(arguments[0], null);', element)\n",
    "for property in properties:\n",
    "    print(property, element.value_of_css_property(property))"
   ]
  },
  {
   "cell_type": "code",
   "execution_count": null,
   "metadata": {},
   "outputs": [],
   "source": [
    "spacy.language"
   ]
  },
  {
   "cell_type": "code",
   "execution_count": null,
   "metadata": {},
   "outputs": [],
   "source": [
    "colorsys.rgb_to_hsv(.3, .4, .2)"
   ]
  },
  {
   "cell_type": "code",
   "execution_count": null,
   "metadata": {},
   "outputs": [],
   "source": [
    "#are the rgb values, cluster centroids, cluster centroid proportions, or hsv values predictive of the type of business"
   ]
  }
 ],
 "metadata": {
  "kernelspec": {
   "display_name": "Python 3",
   "language": "python",
   "name": "python3"
  },
  "language_info": {
   "codemirror_mode": {
    "name": "ipython",
    "version": 3
   },
   "file_extension": ".py",
   "mimetype": "text/x-python",
   "name": "python",
   "nbconvert_exporter": "python",
   "pygments_lexer": "ipython3",
   "version": "3.8.5"
  }
 },
 "nbformat": 4,
 "nbformat_minor": 4
}
